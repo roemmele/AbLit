{
 "cells": [
  {
   "cell_type": "markdown",
   "metadata": {},
   "source": [
    "# AbLit: *Ab*ridged versions of English *Lit*erature books\n",
    "\n",
    "\n",
    "This repo contains the data and code featured in the paper \"ABLIT: A Resource for Analyzing and Generating Abridged Versions of English Literature\". The author Emma Laybourn wrote [abridged versions of 10 classic books](http://www.englishliteratureebooks.com/classicnovelsabridged.html). AbLit annotates the alignment between passages in these abridgements with their original version."
   ]
  },
  {
   "cell_type": "markdown",
   "metadata": {},
   "source": [
    "#### The dataset is now available on HuggingFace datasets: [huggingface.co/datasets/roemmele/ablit](https://huggingface.co/datasets/roemmele/ablit). \n",
    "\n",
    "#### Alternatively, you can access the data directly from this repo. Because AbLit can provide aligned passages of different lengths (e.g. sentences, paragraphs, multi-paragraph chunks), we've provided a python package for interfacing with the data (called ablit). You can use this code to extract and save the data for different passage sizes to file."
   ]
  },
  {
   "cell_type": "markdown",
   "metadata": {},
   "source": [
    "The raw data is in the dataset/ folder.\n",
    "\n",
    "To install ablit as a package and load it from anywhere, do \"pip install .\" in the top level of the repo."
   ]
  },
  {
   "cell_type": "code",
   "execution_count": 1,
   "metadata": {},
   "outputs": [],
   "source": [
    "from ablit import AblitDataset"
   ]
  },
  {
   "cell_type": "code",
   "execution_count": 2,
   "metadata": {},
   "outputs": [
    {
     "data": {
      "text/plain": [
       "AblitDataset(\n",
       "        dirpath=./dataset,\n",
       "        partition=dev,\n",
       "        books=[{'bleak-house': {'book_title': 'Bleak House', 'author': 'Charles Dickens'}}, {'can-you-forgive-her': {'book_title': 'Can You Forgive Her?', 'author': 'Anthony Trollope'}}, {'daniel-deronda': {'book_title': 'Daniel Deronda', 'author': 'George Eliot'}}, {'mansfield-park': {'book_title': 'Mansfield Park', 'author': 'Jane Austen'}}, {'north-and-south': {'book_title': 'North and South', 'author': 'Elizabeth Gaskell'}}, {'shirley': {'book_title': 'Shirley', 'author': 'Charlotte Bronte'}}, {'the-way-we-live-now': {'book_title': 'The Way We Live Now', 'author': 'Anthony Trollope'}}, {'tristram-shandy': {'book_title': 'Tristram Shandy', 'author': 'Laurence Sterne'}}, {'vanity-fair': {'book_title': 'Vanity Fair', 'author': 'W. M. Thackeray'}}, {'wuthering-heights': {'book_title': 'Wuthering Heights', 'author': 'Emily Bronte'}}],\n",
       "        )"
      ]
     },
     "execution_count": 2,
     "metadata": {},
     "output_type": "execute_result"
    }
   ],
   "source": [
    "'''Specify loading a specific partition of the data (train, dev, or test).\n",
    "If no partition given (partition=None), the full dataset will be loaded.'''\n",
    "\n",
    "dataset = AblitDataset(dirpath='./dataset', partition='dev')\n",
    "dataset"
   ]
  },
  {
   "cell_type": "code",
   "execution_count": 3,
   "metadata": {},
   "outputs": [
    {
     "data": {
      "text/plain": [
       "Book(\n",
       "        dirpath=./dataset/bleak-house,\n",
       "        id=bleak-house,\n",
       "        book_title=Bleak House,\n",
       "        author=Charles Dickens,\n",
       "        chapters={0: 'Preface'}\n",
       "        )"
      ]
     },
     "execution_count": 3,
     "metadata": {},
     "output_type": "execute_result"
    }
   ],
   "source": [
    "dataset.books[0]"
   ]
  },
  {
   "cell_type": "code",
   "execution_count": 4,
   "metadata": {},
   "outputs": [
    {
     "data": {
      "text/plain": [
       "Book(\n",
       "        dirpath=./dataset/wuthering-heights,\n",
       "        id=wuthering-heights,\n",
       "        book_title=Wuthering Heights,\n",
       "        author=Emily Bronte,\n",
       "        chapters={0: 'Chapter 1'}\n",
       "        )"
      ]
     },
     "execution_count": 4,
     "metadata": {},
     "output_type": "execute_result"
    }
   ],
   "source": [
    "'''You can also retrieve a book by its id.'''\n",
    "\n",
    "book = dataset.get_book_by_id(\"wuthering-heights\")\n",
    "book"
   ]
  },
  {
   "cell_type": "code",
   "execution_count": 5,
   "metadata": {},
   "outputs": [
    {
     "data": {
      "text/plain": [
       "Chapter(\n",
       "        book_id=wuthering-heights,\n",
       "        book_title=Wuthering Heights,\n",
       "        chapter_idx=0,\n",
       "        chapter_title=Chapter 1,\n",
       "        original=\"1801-I have just returned from a visit to my landlord-the solitary neighbour that I shall be troubled with. This is certainly a beautiful country! In all England, I do not believe that I could have fixed on a situation so completely removed from the stir of society. A perfect misanthropist's Heaven-and Mr. Heathcliff and I are such a suitable pair to divide the desolation between us. A capital fellow! He little imagined how my heart warmed towards him when I beheld his black eyes withdraw so suspiciously under their brows, as I rode up, and when his fingers sheltered themselves, with a jealous resolution, still further in his waistcoat, as I announced my name.\n",
       "\"Mr. Heathcliff?\" I said.\n",
       "A nod was the answer.\n",
       "\"Mr. Lockwood, your new tenant, sir. I do myself the honour of calling as soon as possible after my arrival, to express the hope that I have not inconvenienced you by my perseverance in soliciting the occupation of Thrushcross Grange: I heard yesterday you had had some thoughts-\"\n",
       "\"T...\"\n",
       "        abridged=\"1801. I have just returned from a visit to my landlord - my solitary neighbour. This is certainly a beautiful country! In all England, I do not believe that I could have found a place so completely removed from society. A perfect misanthropist's heaven: for which Mr. Heathcliff and I are equally suited. A capital fellow! He little imagined how my heart warmed towards him when I saw his black eyes withdraw so suspiciously under their brows, and his fingers shelter themselves jealously in his waistcoat, as I rode up.\n",
       "'Mr. Heathcliff?' I said.\n",
       "He nodded.\n",
       "'Mr. Lockwood, your new tenant, sir. I called to express the hope that I have not inconvenienced you by renting Thrushcross Grange.'\n",
       "'Thrushcross Grange is my own, sir,' he answered, wincing. 'I should not allow anyone to inconvenience me, if I could hinder it. Walk in!'\n",
       "The 'walk in' was uttered with closed teeth, meaning, 'Go to the Devil.' However, I decided to accept the invitation: I felt interested in a man even more exaggeratedly r...\"\n",
       "        )"
      ]
     },
     "execution_count": 5,
     "metadata": {},
     "output_type": "execute_result"
    }
   ],
   "source": [
    "chapters = list(book.chapters)\n",
    "chapter = chapters[0]\n",
    "chapter"
   ]
  },
  {
   "cell_type": "code",
   "execution_count": 6,
   "metadata": {},
   "outputs": [
    {
     "data": {
      "text/plain": [
       "Paragraph(\n",
       "        idx=0,\n",
       "        n_original_sentences=6,\n",
       "        original_start_char=0,\n",
       "        original_end_char=669,\n",
       "        original=\"1801-I have just returned from a visit to my landlord-the solitary neighbour that I shall be troubled with. This is certainly a beautiful country! In all England, I do not believe that I could have fixed on a situation so completely removed from the stir of society. A perfect misanthropist's Heaven-and Mr. Heathcliff and I are such a suitable pair to divide the desolation between us. A capital fellow! He little imagined how my heart warmed towards him when I beheld his black eyes withdraw so suspiciously under their brows, as I rode up, and when his fingers sheltered themselves, with a jealous resolution, still further in his waistcoat, as I announced my name.\n",
       "\",\n",
       "        abridged_start_char=0,\n",
       "        abridged_end_char=521,\n",
       "        abridged=\"1801. I have just returned from a visit to my landlord - my solitary neighbour. This is certainly a beautiful country! In all England, I do not believe that I could have found a place so completely removed from society. A perfect misanthropist's heaven: for which Mr. Heathcliff and I are equally suited. A capital fellow! He little imagined how my heart warmed towards him when I saw his black eyes withdraw so suspiciously under their brows, and his fingers shelter themselves jealously in his waistcoat, as I rode up.\n",
       "\"\n",
       "        )"
      ]
     },
     "execution_count": 6,
     "metadata": {},
     "output_type": "execute_result"
    }
   ],
   "source": [
    "'''All text within a chapter (paragraphs, chunks, sentences) is represented with \n",
    "the Passage superclass, which specifies character indices corresponding to the chapter text, \n",
    "and the abridged text that is aligned with it'''\n",
    "\n",
    "paragraphs = list(chapter.paragraphs)\n",
    "paragraphs[0]"
   ]
  },
  {
   "cell_type": "code",
   "execution_count": 7,
   "metadata": {},
   "outputs": [
    {
     "data": {
      "text/plain": [
       "Sentence(\n",
       "        idx=0,\n",
       "        original_start_char=0,\n",
       "        original_end_char=108,\n",
       "        original=\"1801-I have just returned from a visit to my landlord-the solitary neighbour that I shall be troubled with. \",\n",
       "        abridged_start_char=0,\n",
       "        abridged_end_char=80,\n",
       "        abridged=\"1801. I have just returned from a visit to my landlord - my solitary neighbour. \"\n",
       "        )"
      ]
     },
     "execution_count": 7,
     "metadata": {},
     "output_type": "execute_result"
    }
   ],
   "source": [
    "sentences = list(chapter.sentences)\n",
    "sentences[0]"
   ]
  },
  {
   "cell_type": "code",
   "execution_count": 8,
   "metadata": {},
   "outputs": [
    {
     "data": {
      "text/plain": [
       "Chunk(\n",
       "        idx=0,\n",
       "        original_paragraph_idxs=[0, 1, 2],\n",
       "        n_original_sentences=9,\n",
       "        original_start_char=0,\n",
       "        original_end_char=717,\n",
       "        original=\"1801-I have just returned from a visit to my landlord-the solitary neighbour that I shall be troubled with. This is certainly a beautiful country! In all England, I do not believe that I could have fixed on a situation so completely removed from the stir of society. A perfect misanthropist's Heaven-and Mr. Heathcliff and I are such a suitable pair to divide the desolation between us. A capital fellow! He little imagined how my heart warmed towards him when I beheld his black eyes withdraw so suspiciously under their brows, as I rode up, and when his fingers sheltered themselves, with a jealous resolution, still further in his waistcoat, as I announced my name.\n",
       "\"Mr. Heathcliff?\" I said.\n",
       "A nod was the answer.\n",
       "\",\n",
       "        abridged_start_char=0,\n",
       "        abridged_end_char=558,\n",
       "        abridged=\"1801. I have just returned from a visit to my landlord - my solitary neighbour. This is certainly a beautiful country! In all England, I do not believe that I could have found a place so completely removed from society. A perfect misanthropist's heaven: for which Mr. Heathcliff and I are equally suited. A capital fellow! He little imagined how my heart warmed towards him when I saw his black eyes withdraw so suspiciously under their brows, and his fingers shelter themselves jealously in his waistcoat, as I rode up.\n",
       "'Mr. Heathcliff?' I said.\n",
       "He nodded.\n",
       "\"\n",
       "        )"
      ]
     },
     "execution_count": 8,
     "metadata": {},
     "output_type": "execute_result"
    }
   ],
   "source": [
    "'''Get passages (\"chunks\") of a minimum length in terms of number of sentences (merge_n_sentences). \n",
    "A chunk consists of one or more paragraphs whose total\n",
    "number of sentences is equal to or greater than merge_n_sentences. \n",
    "No splitting within paragraphs is done; paragraphs are merged only. \n",
    "This means that a chunk will exceed merge_n_sentences when a paragraph exceeds merge_n_sentences. \n",
    "Moreover, trailing sentences left over after all preceding chunks in the text have been gathered\n",
    "will be added to the final chunk in the text; this may also cause the chunk to exceed\n",
    "merge_n_sentences.'''\n",
    "\n",
    "chunks = list(chapter.chunks(merge_n_sentences=9))\n",
    "chunks[0]"
   ]
  },
  {
   "cell_type": "code",
   "execution_count": 9,
   "metadata": {},
   "outputs": [
    {
     "data": {
      "text/plain": [
       "Chunk(\n",
       "        idx=0,\n",
       "        original_paragraph_idxs=[0],\n",
       "        n_original_sentences=3,\n",
       "        original_start_char=0,\n",
       "        original_end_char=267,\n",
       "        original=\"1801-I have just returned from a visit to my landlord-the solitary neighbour that I shall be troubled with. This is certainly a beautiful country! In all England, I do not believe that I could have fixed on a situation so completely removed from the stir of society. \",\n",
       "        abridged_start_char=0,\n",
       "        abridged_end_char=220,\n",
       "        abridged=\"1801. I have just returned from a visit to my landlord - my solitary neighbour. This is certainly a beautiful country! In all England, I do not believe that I could have found a place so completely removed from society. \"\n",
       "        )"
      ]
     },
     "execution_count": 9,
     "metadata": {},
     "output_type": "execute_result"
    }
   ],
   "source": [
    "'''Alternatively, specify max_n_sentences if you want to merge paragraphs\n",
    "into chunks of max_n_sentences, and you additionally want to split within paragraphs \n",
    "so that no passage exceeds max_n_sentences. Trailing sentences within a paragraph that \n",
    "are less than max_n_sentences will be treated as their own chunk. In the paper, the results\n",
    "for chunks were obtained using max_n_sentences=10.'''\n",
    "\n",
    "chunks = list(chapter.chunks(max_n_sentences=3))\n",
    "chunks[0]"
   ]
  },
  {
   "cell_type": "code",
   "execution_count": 10,
   "metadata": {},
   "outputs": [
    {
     "data": {
      "text/plain": [
       "Row(\n",
       "        idx=12,\n",
       "        n_original_sentences=1,\n",
       "        original_start_char=1060,\n",
       "        original_end_char=1140,\n",
       "        original=\"\"I should not allow any one to inconvenience me, if I could hinder it-walk in!\"\n",
       "\",\n",
       "        n_abridged_sentences=2,\n",
       "        abridged_start_char=750,\n",
       "        abridged_end_char=830,\n",
       "        abridged=\"'I should not allow anyone to inconvenience me, if I could hinder it. Walk in!'\n",
       "\",\n",
       "        )"
      ]
     },
     "execution_count": 10,
     "metadata": {},
     "output_type": "execute_result"
    }
   ],
   "source": [
    "'''Get the rows of aligned spans that are the direct output of the validation task.\n",
    "These passages can be thought of as \"oracle spans\" because the size of the passages \n",
    "participating in the alignment are not immediately known for any arbitrary text, \n",
    "they are only known because they are defined by the result of the validation task. \n",
    "For example, if a row aligns two original sentences with one abridged sentence,\n",
    "the fact that these two original sentences should be grouped together\n",
    "in the same alignment isn't automatically known just by looking at the text itself. \n",
    "In contrast, the boundaries for sentences, paragraphs, and chunks \n",
    "can be inferred directly from just the original text.'''\n",
    "\n",
    "rows = list(chapter.rows)\n",
    "rows[12]"
   ]
  },
  {
   "cell_type": "code",
   "execution_count": 11,
   "metadata": {},
   "outputs": [
    {
     "data": {
      "text/plain": [
       "[Passage(\n",
       "         version=original,\n",
       "         start_char=1005,\n",
       "         end_char=1032,\n",
       "         text=\"cross Grange is my own, sir\"\n",
       "         ),\n",
       " Passage(\n",
       "         version=original,\n",
       "         start_char=1035,\n",
       "         end_char=1037,\n",
       "         text=\"he\"\n",
       "         ),\n",
       " Passage(\n",
       "         version=original,\n",
       "         start_char=1049,\n",
       "         end_char=1060,\n",
       "         text=\", wincing. \"\n",
       "         ),\n",
       " Passage(\n",
       "         version=original,\n",
       "         start_char=1061,\n",
       "         end_char=1079,\n",
       "         text=\"I should not allow\"\n",
       "         ),\n",
       " Passage(\n",
       "         version=original,\n",
       "         start_char=1088,\n",
       "         end_char=1129,\n",
       "         text=\"to inconvenience me, if I could hinder it\"\n",
       "         ),\n",
       " Passage(\n",
       "         version=original,\n",
       "         start_char=1130,\n",
       "         end_char=1137,\n",
       "         text=\"walk in\"\n",
       "         )]"
      ]
     },
     "execution_count": 11,
     "metadata": {},
     "output_type": "execute_result"
    }
   ],
   "source": [
    "''' For a given original passage, get the slices within it that \n",
    "overlap with text in the corresponding abridged passage. \n",
    "This is available for all passages.\n",
    "This information was used for token sequence labeling experiments reported in the paper, \n",
    "to predict which text in the original also shows up in the abridgement.'''\n",
    "\n",
    "paragraphs[4].overlaps"
   ]
  },
  {
   "cell_type": "markdown",
   "metadata": {},
   "source": [
    "#### Extract a full dataset of aligned passages\n",
    "\n",
    "It's easy to produce a list with the aligned original and abridged passages of whatever size you want, and save it as a file that you can load in your experiments. Just select the data partition you want to extract, then specify the attribute for your desired passage type while looping through all the books/chapters, as shown below."
   ]
  },
  {
   "cell_type": "code",
   "execution_count": 12,
   "metadata": {},
   "outputs": [],
   "source": [
    "import pandas\n",
    "pandas.options.display.max_colwidth = None"
   ]
  },
  {
   "cell_type": "code",
   "execution_count": 13,
   "metadata": {},
   "outputs": [],
   "source": [
    "from ablit import AblitDataset\n",
    "\n",
    "dataset = AblitDataset(dirpath='./dataset',\n",
    "                       partition=\"dev\")"
   ]
  },
  {
   "cell_type": "code",
   "execution_count": 14,
   "metadata": {},
   "outputs": [
    {
     "data": {
      "text/html": [
       "<div>\n",
       "<style scoped>\n",
       "    .dataframe tbody tr th:only-of-type {\n",
       "        vertical-align: middle;\n",
       "    }\n",
       "\n",
       "    .dataframe tbody tr th {\n",
       "        vertical-align: top;\n",
       "    }\n",
       "\n",
       "    .dataframe thead th {\n",
       "        text-align: right;\n",
       "    }\n",
       "</style>\n",
       "<table border=\"1\" class=\"dataframe\">\n",
       "  <thead>\n",
       "    <tr style=\"text-align: right;\">\n",
       "      <th></th>\n",
       "      <th>original</th>\n",
       "      <th>abridged</th>\n",
       "      <th>book</th>\n",
       "      <th>chapter</th>\n",
       "    </tr>\n",
       "  </thead>\n",
       "  <tbody>\n",
       "    <tr>\n",
       "      <th>0</th>\n",
       "      <td>A Chancery judge once had the kindness to inform me, as one of a company of some hundred and fifty men and women not labouring under any suspicions of lunacy, that the Court of Chancery, though the shining subject of much popular prejudice (at which point I thought the judge's eye had a cast in my direction), was almost immaculate.</td>\n",
       "      <td></td>\n",
       "      <td>Bleak House</td>\n",
       "      <td>Preface</td>\n",
       "    </tr>\n",
       "    <tr>\n",
       "      <th>1</th>\n",
       "      <td>There had been, he admitted, a trivial blemish or so in its rate of progress, but this was exaggerated and had been entirely owing to the \"parsimony of the public,\" which guilty public, it appeared, had been until lately bent in the most determined manner on by no means enlarging the number of Chancery judges appointed--I believe by Richard the Second, but any other king will do as well.\\n</td>\n",
       "      <td></td>\n",
       "      <td>Bleak House</td>\n",
       "      <td>Preface</td>\n",
       "    </tr>\n",
       "    <tr>\n",
       "      <th>2</th>\n",
       "      <td>This seemed to me too profound a joke to be inserted in the body of this book or I should have restored it to Conversation Kenge or to Mr. Vholes, with one or other of whom I think it must have originated.</td>\n",
       "      <td></td>\n",
       "      <td>Bleak House</td>\n",
       "      <td>Preface</td>\n",
       "    </tr>\n",
       "    <tr>\n",
       "      <th>3</th>\n",
       "      <td>In such mouths I might have coupled it with an apt quotation from one of Shakespeare's sonnets:\\n</td>\n",
       "      <td></td>\n",
       "      <td>Bleak House</td>\n",
       "      <td>Preface</td>\n",
       "    </tr>\n",
       "    <tr>\n",
       "      <th>4</th>\n",
       "      <td>\"My nature is subdued To what it works in, like the dyer's hand: Pity me, then, and wish I were renewed!\"\\n</td>\n",
       "      <td></td>\n",
       "      <td>Bleak House</td>\n",
       "      <td>Preface</td>\n",
       "    </tr>\n",
       "    <tr>\n",
       "      <th>...</th>\n",
       "      <td>...</td>\n",
       "      <td>...</td>\n",
       "      <td>...</td>\n",
       "      <td>...</td>\n",
       "    </tr>\n",
       "    <tr>\n",
       "      <th>1138</th>\n",
       "      <td>He-probably swayed by prudential consideration of the folly of offending a good tenant-relaxed a little in the laconic style of chipping off his pronouns and auxiliary verbs, and introduced what he supposed would be a subject of interest to me,-a discourse on the advantages and disadvantages of my present place of retirement.</td>\n",
       "      <td>Probably not wishing to offend a good tenant, he began to talk less curtly, discussing the advantages and disadvantages of my new house.</td>\n",
       "      <td>Wuthering Heights</td>\n",
       "      <td>Chapter 1</td>\n",
       "    </tr>\n",
       "    <tr>\n",
       "      <th>1139</th>\n",
       "      <td>I found him very intelligent on the topics we touched; and before I went home, I was encouraged so far as to volunteer another visit to-morrow.</td>\n",
       "      <td>I found him very intelligent on these topics; and before I went home, I offered to visit him tomorrow.</td>\n",
       "      <td>Wuthering Heights</td>\n",
       "      <td>Chapter 1</td>\n",
       "    </tr>\n",
       "    <tr>\n",
       "      <th>1140</th>\n",
       "      <td>He evidently wished no repetition of my intrusion.</td>\n",
       "      <td>He did not seem to wish for it.</td>\n",
       "      <td>Wuthering Heights</td>\n",
       "      <td>Chapter 1</td>\n",
       "    </tr>\n",
       "    <tr>\n",
       "      <th>1141</th>\n",
       "      <td>I shall go, notwithstanding.</td>\n",
       "      <td>I shall go, all the same.</td>\n",
       "      <td>Wuthering Heights</td>\n",
       "      <td>Chapter 1</td>\n",
       "    </tr>\n",
       "    <tr>\n",
       "      <th>1142</th>\n",
       "      <td>It is astonishing how sociable I feel myself compared with him.</td>\n",
       "      <td>It is astonishing how sociable I feel compared with him.</td>\n",
       "      <td>Wuthering Heights</td>\n",
       "      <td>Chapter 1</td>\n",
       "    </tr>\n",
       "  </tbody>\n",
       "</table>\n",
       "<p>1143 rows × 4 columns</p>\n",
       "</div>"
      ],
      "text/plain": [
       "                                                                                                                                                                                                                                                                                                                                                                                                      original  \\\n",
       "0                                                               A Chancery judge once had the kindness to inform me, as one of a company of some hundred and fifty men and women not labouring under any suspicions of lunacy, that the Court of Chancery, though the shining subject of much popular prejudice (at which point I thought the judge's eye had a cast in my direction), was almost immaculate.    \n",
       "1     There had been, he admitted, a trivial blemish or so in its rate of progress, but this was exaggerated and had been entirely owing to the \"parsimony of the public,\" which guilty public, it appeared, had been until lately bent in the most determined manner on by no means enlarging the number of Chancery judges appointed--I believe by Richard the Second, but any other king will do as well.\\n   \n",
       "2                                                                                                                                                                                               This seemed to me too profound a joke to be inserted in the body of this book or I should have restored it to Conversation Kenge or to Mr. Vholes, with one or other of whom I think it must have originated.    \n",
       "3                                                                                                                                                                                                                                                                                                            In such mouths I might have coupled it with an apt quotation from one of Shakespeare's sonnets:\\n   \n",
       "4                                                                                                                                                                                                                                                                                                  \"My nature is subdued To what it works in, like the dyer's hand: Pity me, then, and wish I were renewed!\"\\n   \n",
       "...                                                                                                                                                                                                                                                                                                                                                                                                        ...   \n",
       "1138                                                                  He-probably swayed by prudential consideration of the folly of offending a good tenant-relaxed a little in the laconic style of chipping off his pronouns and auxiliary verbs, and introduced what he supposed would be a subject of interest to me,-a discourse on the advantages and disadvantages of my present place of retirement.    \n",
       "1139                                                                                                                                                                                                                                                          I found him very intelligent on the topics we touched; and before I went home, I was encouraged so far as to volunteer another visit to-morrow.    \n",
       "1140                                                                                                                                                                                                                                                                                                                                                       He evidently wished no repetition of my intrusion.    \n",
       "1141                                                                                                                                                                                                                                                                                                                                                                             I shall go, notwithstanding.    \n",
       "1142                                                                                                                                                                                                                                                                                                                                           It is astonishing how sociable I feel myself compared with him.   \n",
       "\n",
       "                                                                                                                                       abridged  \\\n",
       "0                                                                                                                                                 \n",
       "1                                                                                                                                                 \n",
       "2                                                                                                                                                 \n",
       "3                                                                                                                                                 \n",
       "4                                                                                                                                                 \n",
       "...                                                                                                                                         ...   \n",
       "1138  Probably not wishing to offend a good tenant, he began to talk less curtly, discussing the advantages and disadvantages of my new house.    \n",
       "1139                                    I found him very intelligent on these topics; and before I went home, I offered to visit him tomorrow.    \n",
       "1140                                                                                                           He did not seem to wish for it.    \n",
       "1141                                                                                                                 I shall go, all the same.    \n",
       "1142                                                                                   It is astonishing how sociable I feel compared with him.   \n",
       "\n",
       "                   book    chapter  \n",
       "0           Bleak House    Preface  \n",
       "1           Bleak House    Preface  \n",
       "2           Bleak House    Preface  \n",
       "3           Bleak House    Preface  \n",
       "4           Bleak House    Preface  \n",
       "...                 ...        ...  \n",
       "1138  Wuthering Heights  Chapter 1  \n",
       "1139  Wuthering Heights  Chapter 1  \n",
       "1140  Wuthering Heights  Chapter 1  \n",
       "1141  Wuthering Heights  Chapter 1  \n",
       "1142  Wuthering Heights  Chapter 1  \n",
       "\n",
       "[1143 rows x 4 columns]"
      ]
     },
     "execution_count": 14,
     "metadata": {},
     "output_type": "execute_result"
    }
   ],
   "source": [
    "dataframe = []\n",
    "for book in dataset.books:\n",
    "    for chapter in book.chapters:\n",
    "        ''' Pick your passage type, e.g.:'''\n",
    "#         for passage in chapter.rows:\n",
    "#         for passage in chapter.paragraphs:\n",
    "#         for passage in chapter.chunks(merge_n_sentences=None, max_n_sentences=10):\n",
    "        for passage in chapter.sentences:\n",
    "            dataframe.append({'original': passage.original,\n",
    "                              'abridged': passage.abridged,\n",
    "                              'book': book.book_title,\n",
    "                              'chapter': chapter.chapter_title})\n",
    "dataframe = pandas.DataFrame(dataframe)\n",
    "dataframe"
   ]
  },
  {
   "cell_type": "code",
   "execution_count": 15,
   "metadata": {},
   "outputs": [],
   "source": [
    "# Save the dataset, e.g.:\n",
    "# dataframe.to_json(\"my_dataset.jsonl\", orient='records', lines=True)"
   ]
  },
  {
   "cell_type": "code",
   "execution_count": null,
   "metadata": {},
   "outputs": [],
   "source": []
  }
 ],
 "metadata": {
  "kernelspec": {
   "display_name": "Python 3 (ipykernel)",
   "language": "python",
   "name": "python3"
  },
  "language_info": {
   "codemirror_mode": {
    "name": "ipython",
    "version": 3
   },
   "file_extension": ".py",
   "mimetype": "text/x-python",
   "name": "python",
   "nbconvert_exporter": "python",
   "pygments_lexer": "ipython3",
   "version": "3.7.5"
  },
  "varInspector": {
   "cols": {
    "lenName": 16,
    "lenType": 16,
    "lenVar": 40
   },
   "kernels_config": {
    "python": {
     "delete_cmd_postfix": "",
     "delete_cmd_prefix": "del ",
     "library": "var_list.py",
     "varRefreshCmd": "print(var_dic_list())"
    },
    "r": {
     "delete_cmd_postfix": ") ",
     "delete_cmd_prefix": "rm(",
     "library": "var_list.r",
     "varRefreshCmd": "cat(var_dic_list()) "
    }
   },
   "types_to_exclude": [
    "module",
    "function",
    "builtin_function_or_method",
    "instance",
    "_Feature"
   ],
   "window_display": false
  }
 },
 "nbformat": 4,
 "nbformat_minor": 4
}
